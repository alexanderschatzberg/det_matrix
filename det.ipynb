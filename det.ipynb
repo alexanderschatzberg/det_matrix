{
 "cells": [
  {
   "cell_type": "code",
   "execution_count": 128,
   "metadata": {},
   "outputs": [],
   "source": [
    "import numpy as np\n",
    "import random\n",
    "#row reductions, row eschlon form"
   ]
  },
  {
   "cell_type": "code",
   "execution_count": 129,
   "metadata": {},
   "outputs": [],
   "source": [
    "\n",
    "def twoByTwo(matrix):\n",
    "  return ((matrix[0][0] * matrix[1][1]) - matrix[1][0]*matrix[0][1])\n",
    "\n",
    "def determinant2(matrix, memo: dict):\n",
    "  if memo.get(str(matrix)):\n",
    "    return memo.get(str(matrix))\n",
    "  if len(matrix) == 2:\n",
    "    return twoByTwo(matrix)\n",
    "  else:\n",
    "    result = 0\n",
    "    for i in range(len(matrix)):\n",
    "      if matrix[0][i] == 0:\n",
    "        result += 0\n",
    "        continue \n",
    "      submatrix = [row[:i] + row[i+1:] for row in matrix[1:]]\n",
    "      result += (-1) ** i * matrix[0][i] * determinant2(submatrix, memo)\n",
    "    memo[str(matrix)] = result\n",
    "    return result\n",
    "\n",
    "\n",
    "def genMatrix(dim, lower, upper):\n",
    "  matrix = []\n",
    "  for i in range(dim):\n",
    "    row = []\n",
    "    for j in range(dim):\n",
    "      row.append(random.randint(lower, upper))\n",
    "    matrix.append(row)\n",
    "  return matrix\n"
   ]
  },
  {
   "cell_type": "code",
   "execution_count": 130,
   "metadata": {},
   "outputs": [
    {
     "name": "stdout",
     "output_type": "stream",
     "text": [
      "Numpy Determinant: -1351.0000000000002\n",
      "My Determinant: -1351\n",
      "Matrix: [[2, 6, 3, 0, 6], [2, 7, 5, 6, 4], [2, 4, 0, 1, 0], [7, 5, 7, 0, 6], [4, 2, 6, 1, 7]]\n",
      "Determinant: -1351\n"
     ]
    }
   ],
   "source": [
    "matrix = genMatrix(100, 0, 7)\n",
    "\n",
    "print(\"Numpy Determinant: \" + str(np.linalg.det(matrix)))\n",
    "print(\"My Determinant: \" + str(determinant2(matrix, dict())))\n",
    "\n",
    "print(\"Matrix: \" + str(matrix))\n",
    "det = determinant2(matrix, dict())\n",
    "print(\"Determinant: \" + str(det))"
   ]
  },
  {
   "cell_type": "code",
   "execution_count": 131,
   "metadata": {},
   "outputs": [
    {
     "name": "stdout",
     "output_type": "stream",
     "text": [
      "Numpy Determinant: -1351.0000000000002\n"
     ]
    }
   ],
   "source": [
    "print(\"Numpy Determinant: \" + str(np.linalg.det(matrix)))"
   ]
  },
  {
   "cell_type": "code",
   "execution_count": 132,
   "metadata": {},
   "outputs": [
    {
     "name": "stdout",
     "output_type": "stream",
     "text": [
      "My Determinant: -1351\n"
     ]
    }
   ],
   "source": [
    "print(\"My Determinant: \" + str(determinant2(matrix, dict())))"
   ]
  }
 ],
 "metadata": {
  "kernelspec": {
   "display_name": "qr-2022",
   "language": "python",
   "name": "python3"
  },
  "language_info": {
   "codemirror_mode": {
    "name": "ipython",
    "version": 3
   },
   "file_extension": ".py",
   "mimetype": "text/x-python",
   "name": "python",
   "nbconvert_exporter": "python",
   "pygments_lexer": "ipython3",
   "version": "3.11.0"
  },
  "orig_nbformat": 4,
  "vscode": {
   "interpreter": {
    "hash": "3ffdbad002fda2d18967513b1f339de1c8ba3e48f3d380102f7d2faa53b68d18"
   }
  }
 },
 "nbformat": 4,
 "nbformat_minor": 2
}
