{
 "cells": [
  {
   "cell_type": "code",
   "execution_count": 63,
   "metadata": {},
   "outputs": [],
   "source": [
    "import numpy as np\n",
    "import random"
   ]
  },
  {
   "cell_type": "code",
   "execution_count": 64,
   "metadata": {},
   "outputs": [],
   "source": [
    "\n",
    "def twoByTwo(matrix):\n",
    "  return ((matrix[0][0] * matrix[1][1]) - matrix[1][0]*matrix[0][1])\n",
    "\n",
    "def determinant(matrix):\n",
    "    if len(matrix) == 2:\n",
    "        return twoByTwo(matrix)\n",
    "    else:\n",
    "        result = 0\n",
    "        for i in range(len(matrix)):\n",
    "            if matrix[0][i] == 0:\n",
    "              result += 0\n",
    "              continue \n",
    "\n",
    "            submatrix = [row[:i] + row[i+1:] for row in matrix[1:]]\n",
    "            result += (-1) ** i * matrix[0][i] * determinant(submatrix)\n",
    "        return result\n",
    "\n",
    "def genMatrix(dim, lower, upper):\n",
    "  matrix = []\n",
    "  for i in range(dim):\n",
    "    row = []\n",
    "    for j in range(dim):\n",
    "      row.append(random.randint(lower, upper))\n",
    "    matrix.append(row)\n",
    "  return matrix\n"
   ]
  },
  {
   "cell_type": "code",
   "execution_count": 69,
   "metadata": {},
   "outputs": [
    {
     "name": "stdout",
     "output_type": "stream",
     "text": [
      "Determinant 1: 2198\n",
      "Determinant 2: -2600\n"
     ]
    }
   ],
   "source": [
    "matrix = genMatrix(8, 0, 2)\n",
    "\n",
    "print(\"Matrix: \" + str(matrix))\n",
    "det = determinant(matrix)\n",
    "print(\"Determinant: \" + str(det))"
   ]
  }
 ],
 "metadata": {
  "kernelspec": {
   "display_name": "qr-2022",
   "language": "python",
   "name": "python3"
  },
  "language_info": {
   "codemirror_mode": {
    "name": "ipython",
    "version": 3
   },
   "file_extension": ".py",
   "mimetype": "text/x-python",
   "name": "python",
   "nbconvert_exporter": "python",
   "pygments_lexer": "ipython3",
   "version": "3.11.0"
  },
  "orig_nbformat": 4,
  "vscode": {
   "interpreter": {
    "hash": "3ffdbad002fda2d18967513b1f339de1c8ba3e48f3d380102f7d2faa53b68d18"
   }
  }
 },
 "nbformat": 4,
 "nbformat_minor": 2
}
