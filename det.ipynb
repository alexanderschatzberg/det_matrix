{
 "cells": [
  {
   "cell_type": "code",
   "execution_count": 2,
   "metadata": {},
   "outputs": [],
   "source": [
    "import numpy as np"
   ]
  },
  {
   "cell_type": "code",
   "execution_count": 4,
   "metadata": {},
   "outputs": [
    {
     "ename": "SyntaxError",
     "evalue": "invalid syntax (731907396.py, line 10)",
     "output_type": "error",
     "traceback": [
      "\u001b[0;36m  Cell \u001b[0;32mIn[4], line 10\u001b[0;36m\u001b[0m\n\u001b[0;31m    newMatrix = = getNew(matrix, i);\u001b[0m\n\u001b[0m                ^\u001b[0m\n\u001b[0;31mSyntaxError\u001b[0m\u001b[0;31m:\u001b[0m invalid syntax\n"
     ]
    }
   ],
   "source": [
    "def twoByTwo(matrix):\n",
    "  return ((matrix[0][0] * matrix[1][1]) - matrix[1][0]*matrix[0][1])\n",
    "\n",
    "def determinant(matrix):\n",
    "    if len(matrix) == 2:\n",
    "        return twoByTwo(matrix)\n",
    "    else:\n",
    "        result = 0\n",
    "        for i in range(len(matrix)):\n",
    "            submatrix = [row[:i] + row[i+1:] for row in matrix[1:]]\n",
    "            result += (-1) ** i * matrix[0][i] * determinant(submatrix)\n",
    "        return result\n",
    "\n"
   ]
  },
  {
   "cell_type": "code",
   "execution_count": null,
   "metadata": {},
   "outputs": [],
   "source": []
  }
 ],
 "metadata": {
  "kernelspec": {
   "display_name": "qr-2022",
   "language": "python",
   "name": "python3"
  },
  "language_info": {
   "codemirror_mode": {
    "name": "ipython",
    "version": 3
   },
   "file_extension": ".py",
   "mimetype": "text/x-python",
   "name": "python",
   "nbconvert_exporter": "python",
   "pygments_lexer": "ipython3",
   "version": "3.11.0"
  },
  "orig_nbformat": 4,
  "vscode": {
   "interpreter": {
    "hash": "3ffdbad002fda2d18967513b1f339de1c8ba3e48f3d380102f7d2faa53b68d18"
   }
  }
 },
 "nbformat": 4,
 "nbformat_minor": 2
}
