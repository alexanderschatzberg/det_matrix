{
 "cells": [
  {
   "cell_type": "code",
   "execution_count": 63,
   "metadata": {},
   "outputs": [],
   "source": [
    "import numpy as np\n",
    "import random\n",
    "#row reductions, row eschlon form"
   ]
  },
  {
   "cell_type": "code",
   "execution_count": 64,
   "metadata": {},
   "outputs": [],
   "source": [
    "\n",
    "def twoByTwo(matrix):\n",
    "  return ((matrix[0][0] * matrix[1][1]) - matrix[1][0]*matrix[0][1])\n",
    "\n",
    "def determinant(matrix):\n",
    "    if len(matrix) == 2:\n",
    "        return twoByTwo(matrix)\n",
    "    else:\n",
    "        result = 0\n",
    "        for i in range(len(matrix)):\n",
    "            if matrix[0][i] == 0:\n",
    "              result += 0\n",
    "              continue \n",
    "\n",
    "            submatrix = [row[:i] + row[i+1:] for row in matrix[1:]]\n",
    "            result += (-1) ** i * matrix[0][i] * determinant(submatrix)\n",
    "        return result\n",
    "\n",
    "def genMatrix(dim, lower, upper):\n",
    "  matrix = []\n",
    "  for i in range(dim):\n",
    "    row = []\n",
    "    for j in range(dim):\n",
    "      row.append(random.randint(lower, upper))\n",
    "    matrix.append(row)\n",
    "  return matrix\n"
   ]
  },
  {
   "cell_type": "code",
   "execution_count": null,
   "metadata": {},
   "outputs": [],
   "source": [
    "def gauss_jordan(matrix):\n",
    "    \"\"\"\n",
    "    Row reduces a matrix using Gauss-Jordan elimination.\n",
    "    :param m: matrix to row reduce (list of lists of floats)\n",
    "    :return: row reduced matrix (list of lists of floats)\n",
    "    \"\"\"\n",
    "    # Make a copy of the matrix to preserve the original\n",
    "    r = [list(row) for row in matrix]\n",
    "    n = len(r)\n",
    "    matrix = len(r[0])\n",
    "\n",
    "    # Iterate over the rows\n",
    "    for i in range(n):\n",
    "        # Divide the row by the pivot element\n",
    "        pivot = r[i][i]\n",
    "        for j in range(matrix):\n",
    "            r[i][j] = r[i][j] / pivot\n",
    "\n",
    "        # Eliminate the pivot element from the other rows\n",
    "        for k in range(n):\n",
    "            if k == i:\n",
    "                continue\n",
    "            factor = r[k][i]\n",
    "            for j in range(matrix):\n",
    "                r[k][j] = r[k][j] - factor * r[i][j]\n",
    "\n",
    "    return r"
   ]
  },
  {
   "cell_type": "code",
   "execution_count": 74,
   "metadata": {},
   "outputs": [
    {
     "name": "stdout",
     "output_type": "stream",
     "text": [
      "Matrix: [[1, 0, 0, 1, 1, 2, 0, 1], [0, 2, 0, 0, 2, 2, 2, 0], [2, 2, 1, 0, 2, 1, 2, 1], [2, 2, 0, 1, 2, 0, 0, 1], [0, 2, 0, 2, 0, 1, 0, 2], [0, 2, 0, 2, 0, 2, 0, 2], [0, 0, 0, 2, 0, 2, 2, 2], [0, 0, 0, 2, 0, 1, 2, 2]]\n",
      "Determinant: 0\n"
     ]
    }
   ],
   "source": [
    "matrix = genMatrix(8, 0, 2)\n",
    "\n",
    "matrix = gauss_jordan(matrix) \n",
    "\n",
    "print(\"Matrix: \" + str(matrix))\n",
    "det = determinant(matrix)\n",
    "print(\"Determinant: \" + str(det))"
   ]
  }
 ],
 "metadata": {
  "kernelspec": {
   "display_name": "qr-2022",
   "language": "python",
   "name": "python3"
  },
  "language_info": {
   "codemirror_mode": {
    "name": "ipython",
    "version": 3
   },
   "file_extension": ".py",
   "mimetype": "text/x-python",
   "name": "python",
   "nbconvert_exporter": "python",
   "pygments_lexer": "ipython3",
   "version": "3.11.0"
  },
  "orig_nbformat": 4,
  "vscode": {
   "interpreter": {
    "hash": "3ffdbad002fda2d18967513b1f339de1c8ba3e48f3d380102f7d2faa53b68d18"
   }
  }
 },
 "nbformat": 4,
 "nbformat_minor": 2
}
